{
 "cells": [
  {
   "cell_type": "markdown",
   "metadata": {},
   "source": [
    "Before you turn this problem in, make sure everything runs as expected. First, **restart the kernel** (in the menubar, select Kernel$\\rightarrow$Restart) and then **run all cells** (in the menubar, select Cell$\\rightarrow$Run All).\n",
    "\n",
    "Note that this Pre-class Work is estimated to take **32 minutes**.\n",
    "\n",
    "Make sure you fill in any place that says `YOUR CODE HERE` or \"YOUR ANSWER HERE\", as well as your name and collaborators below:"
   ]
  },
  {
   "cell_type": "code",
   "execution_count": null,
   "metadata": {},
   "outputs": [],
   "source": [
    "NAME = \"Liuda Serohina\"\n",
    "COLLABORATORS = \"\""
   ]
  },
  {
   "cell_type": "markdown",
   "metadata": {},
   "source": [
    "---"
   ]
  },
  {
   "cell_type": "markdown",
   "metadata": {
    "deletable": false,
    "nbgrader": {
     "checksum": "6eb33d4bbb91bdad042e00eb02fae1ad",
     "grade": false,
     "grade_id": "cell-f941f4ddd5e342f7",
     "locked": true,
     "schema_version": 1,
     "solution": false
    }
   },
   "source": [
    "# CS110 Pre-class Work - Maximum subarray problem—part II\n",
    "\n",
    "## Question 1 [time estimate: 2 minutes]\n",
    "Paste in your Python implementation of the maximum subarray from the previous class in the cell below and use that to find out the value of the maximum subarray of this array: `A = [-2, -3, 4, -1, -2, 1]`"
   ]
  },
  {
   "cell_type": "code",
   "execution_count": 8,
   "metadata": {
    "deletable": false,
    "nbgrader": {
     "checksum": "6c4991e90ad8cdfb8cf42529b7e5edd6",
     "grade": true,
     "grade_id": "cell-e69c8bbcd40ca242",
     "locked": false,
     "points": 0,
     "schema_version": 1,
     "solution": true
    }
   },
   "outputs": [
    {
     "name": "stdout",
     "output_type": "stream",
     "text": [
      "(2, 3, 3)\n"
     ]
    }
   ],
   "source": [
    "def max_subarray(A):\n",
    "    \"\"\"\n",
    "    Implements brute-force maximum subarray finding.\n",
    "    \n",
    "    Parameters\n",
    "    ----------\n",
    "    A : list\n",
    "        a NON-EMPTY list of floats\n",
    "    \n",
    "    Returns\n",
    "    -------\n",
    "    tuple\n",
    "        - the start index of the max subarray\n",
    "        - the end index of the max subarray\n",
    "        - the value of the maximum subarray\n",
    "        \n",
    "    \"\"\"\n",
    "    #stores the tuple with start index, end index and value of max subarray\n",
    "    result = []\n",
    "    #stores values of the maximum subarray\n",
    "    max_value = []\n",
    "    \n",
    "    #search from left to right\n",
    "    for left_i in range(len(A)):\n",
    "        for right_i in range(len(A)):\n",
    "            if right_i > left_i:\n",
    "                #add start, end and sum to result list\n",
    "                result.append((left_i, right_i, sum(A[left_i:right_i+1])))\n",
    "                #add the maximum value of the subarray to empty list\n",
    "                max_value.append(sum(A[left_i:right_i+1]))\n",
    "\n",
    "    #outputs a list with start value, end value and maximum value            \n",
    "    return result[max_value.index(max(max_value))]\n",
    "\n",
    "A = [-2, -3, 4, -1, -2, 1]\n",
    "print(max_subarray(A))"
   ]
  },
  {
   "cell_type": "markdown",
   "metadata": {
    "deletable": false,
    "editable": false,
    "nbgrader": {
     "checksum": "676f4558ca97298a50665d2b57563a54",
     "grade": false,
     "grade_id": "cell-6b2d39096ef80c67",
     "locked": true,
     "schema_version": 1,
     "solution": false
    }
   },
   "source": [
    "## Question 2 [time estimate: 5 minutes]\n",
    "Now, your friend Joe comes and appends a single extra number at the end of the array, which becomes:  `B = [-2, -3, 4, -1, -2, 1, 8]`. With the output from ```max_subarray(A)```, do you need to rerun ```max_subarray()``` for the new array again to find the subarray we need? Explain why, or why not, in as much detail as possible, using, if necessary, a specific example to illustrate your reasoning. The subsequent questions will help you figure out an efficient algorithmic strategy to address the last question, but make sure to write your explanation above first, before answering the remaining questions.\n"
   ]
  },
  {
   "cell_type": "markdown",
   "metadata": {
    "deletable": false,
    "nbgrader": {
     "checksum": "b848c0f0fa07252cc99055a801b12e47",
     "grade": true,
     "grade_id": "cell-d4b7cd845c816263",
     "locked": false,
     "points": 0,
     "schema_version": 1,
     "solution": true
    }
   },
   "source": [
    "You don't have to rerun the entire maximum subarray because all the possible sums within it have already been computed. Thus, if you're adding a new element and assuming that it might change the maximum sum, you would need to perform comparisons from the start index (in our case 2) till the end (index 6). This summation would be the only one that wasn't performed yet. "
   ]
  },
  {
   "cell_type": "markdown",
   "metadata": {
    "deletable": false,
    "editable": false,
    "nbgrader": {
     "checksum": "055be509a3fd9e61e64a6572949aa994",
     "grade": false,
     "grade_id": "cell-7280eecbaa455be1",
     "locked": true,
     "schema_version": 1,
     "solution": false
    }
   },
   "source": [
    "## Question 3 [time estimate: 5 minutes]\n",
    "\n",
    "**Determine if the following statement is True or False and explain your answer.**\n",
    "If the maximum subarray of the array A is different than the maximum subarray of the array B (questions 1 and 2), the new maximum-subarray doesn’t need to include 8 (i.e., the newly appended element). \n"
   ]
  },
  {
   "cell_type": "markdown",
   "metadata": {
    "deletable": false,
    "nbgrader": {
     "checksum": "2b29f3c119737d73a7578e00d43972a4",
     "grade": true,
     "grade_id": "cell-9377964a8756f13b",
     "locked": false,
     "points": 0,
     "schema_version": 1,
     "solution": true
    }
   },
   "source": [
    "True, because the maximum sum of array B will only be greater if the last element of the array is 8. Otherwise, their maximum sums are the same. "
   ]
  },
  {
   "cell_type": "markdown",
   "metadata": {
    "deletable": false,
    "editable": false,
    "nbgrader": {
     "checksum": "461bf61cb22c2304f3988c6f34a901e8",
     "grade": false,
     "grade_id": "cell-e7cc711ccdade69f",
     "locked": true,
     "schema_version": 1,
     "solution": false
    }
   },
   "source": [
    "## Question 4 [time estimate: 10 minutes]\n",
    "Complete the Python function `incremental_max_subarray(x, mx)` in the cell below.\n",
    "\n",
    "This [video](https://www.youtube.com/watch?v=AAgErqQmwmA&list=PLF_a-qBXTGFektoI6JUOTRL36JlvD04BR&index=4&t=0s)  might be helpful to understand the `incremental_max_subarray` problem."
   ]
  },
  {
   "cell_type": "code",
   "execution_count": 21,
   "metadata": {
    "deletable": false,
    "nbgrader": {
     "checksum": "ac3f0799ce4ff7159403a97b99cbb5bd",
     "grade": false,
     "grade_id": "cell-0230e459f3d701f8",
     "locked": false,
     "schema_version": 1,
     "solution": true
    }
   },
   "outputs": [],
   "source": [
    "def incremental_max_subarray(x, mx):\n",
    "    \"\"\" \n",
    "    Parameters\n",
    "    ----------\n",
    "    x : list\n",
    "        A NON-EMPTY list of numbers (e.g., the \n",
    "        array B in the first two questions above)\n",
    "        \n",
    "        If x has 1 element: returns the value of \n",
    "        the element regardless of the value of mx\n",
    "        \n",
    "    mx \n",
    "        The maximum subarray of x excluding its \n",
    "        ast element (i.e., compute the maximum \n",
    "        subarray of the input array x considering \n",
    "        only its first len(x) - 1 elements)\n",
    "    \n",
    "    Returns\n",
    "    -------\n",
    "    int\n",
    "        The maximum subarray of the array x\n",
    "    \n",
    "    Example\n",
    "    -------\n",
    "    Using the array B in question 2, the result \n",
    "    of incremental_max_subarray(B, 4) is 10: \n",
    "    \n",
    "        10 = 8 + 1 - 2 -1 + 4 \n",
    "    \n",
    "    \n",
    "    \"\"\"\n",
    "    #if x has only 1 element, return it\n",
    "    if len(x)==1:\n",
    "        return x[0]\n",
    "    \n",
    "    #storage variable for subarray sums\n",
    "    total_sum = 0\n",
    "    \n",
    "    #iterate thru the array in reverse order\n",
    "    for i in range(len(x)-1,-1, -1):\n",
    "        #add x[i] to total sum\n",
    "        total_sum += x[i]\n",
    "        #assign the total sum to the value of maximum sum if it is greater than maximum sum\n",
    "        if total_sum > mx:\n",
    "            mx = total_sum\n",
    "    return mx"
   ]
  },
  {
   "cell_type": "code",
   "execution_count": 22,
   "metadata": {
    "deletable": false,
    "editable": false,
    "nbgrader": {
     "checksum": "70a3880be02d6f703dfa95229957e71f",
     "grade": true,
     "grade_id": "cell-9abf19e56620ffa3",
     "locked": true,
     "points": 1,
     "schema_version": 1,
     "solution": false
    }
   },
   "outputs": [],
   "source": [
    "B = [-2, -3, 4, -1, -2, 1, 8]\n",
    "assert(incremental_max_subarray(B, 4) == 10)\n",
    "assert(incremental_max_subarray(B[:1], 0) == B[0])"
   ]
  },
  {
   "cell_type": "markdown",
   "metadata": {
    "deletable": false,
    "editable": false
   },
   "source": [
    "## Question 5\n",
    "\n",
    "### Part 1 [time estimate: 5 minutes]\n",
    "\n",
    "Now use `incremental_max_subarray(x, mx)` iteratively, starting from the first element, to calculate the maximum subarray of a given list. Come up with a few test cases to test your code."
   ]
  },
  {
   "cell_type": "code",
   "execution_count": 26,
   "metadata": {
    "deletable": false,
    "nbgrader": {
     "checksum": "d9cdd0a60c40e487e87d79d21915e36b",
     "grade": false,
     "grade_id": "cell-fd96d4ccccd99fe6",
     "locked": false,
     "schema_version": 1,
     "solution": true
    }
   },
   "outputs": [
    {
     "data": {
      "text/plain": [
       "4.0"
      ]
     },
     "execution_count": 26,
     "metadata": {},
     "output_type": "execute_result"
    }
   ],
   "source": [
    "def max_subarray(A):\n",
    "    \"\"\"\n",
    "    Using `incremental_max_subarray` iteratively on A \n",
    "    to produce the value of the maximum subarray of A.\n",
    "    \n",
    "    Parameters\n",
    "    ----------\n",
    "    A : list\n",
    "        A NON-EMPTY list of floats\n",
    "        \n",
    "    Returns\n",
    "    -------\n",
    "    float\n",
    "        The sum of the maximum subarray of A \n",
    "    \n",
    "    \"\"\"\n",
    "    #setting the first element as the current maximum sum\n",
    "    maximum_sum = A[0]\n",
    "    \n",
    "    #iterate for the whole length of array\n",
    "    for x in range(0, len(A)):\n",
    "        #calculate the max sum of subarrays using incremental_max_subarray\n",
    "        maximum_sum = incremental_max_subarray(A[:x+1], maximum_sum)\n",
    "        \n",
    "    return float(maximum_sum)\n",
    "    \n",
    "max_subarray(B)\n",
    "max_subarray(A)"
   ]
  },
  {
   "cell_type": "code",
   "execution_count": 30,
   "metadata": {},
   "outputs": [],
   "source": [
    "#test cases: aren't there 2 maximum subarrays here? We ge the value of 10(3+7)\n",
    "#because we iterate from 0 to len(A). Is this correct or should the code output 2 maximum values?\n",
    "C = [-5,3,7,-2,-9, 10]\n",
    "assert(max_subarray(C) == 10)"
   ]
  },
  {
   "cell_type": "code",
   "execution_count": 29,
   "metadata": {
    "deletable": false,
    "editable": false,
    "nbgrader": {
     "checksum": "74149a9559625383203ec1320bff5558",
     "grade": true,
     "grade_id": "cell-669ad779766aa2c3",
     "locked": true,
     "points": 1,
     "schema_version": 1,
     "solution": false
    }
   },
   "outputs": [],
   "source": [
    "# Please ignore this cell. This cell is for us to implement the tests \n",
    "# to see if your code works properly. "
   ]
  },
  {
   "cell_type": "markdown",
   "metadata": {
    "deletable": false,
    "editable": false,
    "nbgrader": {
     "checksum": "03054d2ff22ec9310060ab534208ec0d",
     "grade": false,
     "grade_id": "cell-ae966fc92d098939",
     "locked": true,
     "schema_version": 1,
     "solution": false
    }
   },
   "source": [
    "### Part 2 [time estimate: 5 minutes]\n",
    "Is this more efficient than the divide-and-conquer approach? Explain."
   ]
  },
  {
   "cell_type": "markdown",
   "metadata": {
    "deletable": false,
    "nbgrader": {
     "checksum": "69eb86a7f05367f6396017910664f67d",
     "grade": true,
     "grade_id": "cell-cd8f0b130a7136db",
     "locked": false,
     "points": 0,
     "schema_version": 1,
     "solution": true
    }
   },
   "source": [
    "I don't think so. The whole max_subarray would have the time complexity of Theta(n^2) because of the 2 for loops (one in max_subarray and another one in incremental_max_subarray). The time complexity of divide-and-conquer is Theta(n log n). Which means that as n tends to infinity, the time taken buy divide-and-conquer will be smaller than the time taken by max_subarray algorithm."
   ]
  }
 ],
 "metadata": {
  "kernelspec": {
   "display_name": "Python 3",
   "language": "python",
   "name": "python3"
  },
  "language_info": {
   "codemirror_mode": {
    "name": "ipython",
    "version": 3
   },
   "file_extension": ".py",
   "mimetype": "text/x-python",
   "name": "python",
   "nbconvert_exporter": "python",
   "pygments_lexer": "ipython3",
   "version": "3.7.4"
  }
 },
 "nbformat": 4,
 "nbformat_minor": 2
}
